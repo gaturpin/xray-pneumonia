{
 "cells": [
  {
   "cell_type": "markdown",
   "id": "4a2746bf-46b6-49c8-babf-e1b5e354df97",
   "metadata": {},
   "source": [
    "## Imports"
   ]
  },
  {
   "cell_type": "code",
   "execution_count": null,
   "id": "b5a20ebc-8cf5-4484-945c-7809a25655f5",
   "metadata": {},
   "outputs": [],
   "source": [
    "import numpy as np\n",
    "import pandas as pd\n",
    "import os\n",
    "import matplotlib.pyplot as plt\n",
    "import seaborn as sns\n",
    "from sklearn.model_selection import train_test_split\n",
    "import shutil\n",
    "from multiprocessing import Pool"
   ]
  },
  {
   "cell_type": "code",
   "execution_count": 65,
   "id": "2a97f885-1185-4eaf-a171-603e3ae93d92",
   "metadata": {},
   "outputs": [],
   "source": [
    "def copy_single_file(file_info):\n",
    "    source, destination, file_name = file_info\n",
    "    shutil.copy(os.path.join(source, file_name), os.path.join(destination, file_name))\n",
    "\n",
    "def copy_files(files, source, destination, num_workers=4):\n",
    "    file_info = [(source, destination, f) for f in files]\n",
    "    with Pool(num_workers) as p:\n",
    "        p.map(copy_single_file, file_info)"
   ]
  },
  {
   "cell_type": "markdown",
   "id": "864431fc-0111-470f-a371-cf760b957022",
   "metadata": {},
   "source": [
    "## Data exploration"
   ]
  },
  {
   "cell_type": "code",
   "execution_count": 66,
   "id": "39503502-9131-473d-8cc6-c65a8d971fb9",
   "metadata": {},
   "outputs": [],
   "source": [
    "normal_img_source = 'data/NORMAL/'\n",
    "pneumonia_img_source = 'data/PNEUMONIA/'\n",
    "\n",
    "img_paths = ['data/train', 'data/val', 'data/test']\n",
    "for path in img_paths:\n",
    "    os.makedirs(path + '/normal', exist_ok = True)\n",
    "    os.makedirs(path + '/pneumonia', exist_ok = True)\n"
   ]
  },
  {
   "cell_type": "code",
   "execution_count": 67,
   "id": "914bafdd-4b5c-4d3a-8f16-a2620ce59029",
   "metadata": {},
   "outputs": [
    {
     "data": {
      "text/plain": [
       "Text(0.5, 1.0, 'Total data split')"
      ]
     },
     "execution_count": 67,
     "metadata": {},
     "output_type": "execute_result"
    },
    {
     "data": {
      "image/png": "[encoded data removed]",
      "text/plain": [
       "<Figure size 640x480 with 1 Axes>"
      ]
     },
     "metadata": {},
     "output_type": "display_data"
    }
   ],
   "source": [
    "sns.barplot(x=['Normal', 'Pneunomia'], y = [len(imgs_normal), len(imgs_pneumonia)])\n",
    "plt.ylabel('Cases')\n",
    "plt.xlabel('Label')\n",
    "plt.title('Total data split')"
   ]
  },
  {
   "cell_type": "markdown",
   "id": "c45620df-3439-4c2c-add3-a50c1e0245fc",
   "metadata": {},
   "source": [
    "## Copy files to respective folders"
   ]
  },
  {
   "cell_type": "code",
   "execution_count": 68,
   "id": "e2e56731-0f0f-4365-ab33-f93712709508",
   "metadata": {},
   "outputs": [
    {
     "name": "stdout",
     "output_type": "stream",
     "text": [
      "Normal train/val/test:  937 312 313\n",
      "Pneumonia train/val/test:  2564 855 855\n"
     ]
    }
   ],
   "source": [
    "imgs_normal = [image for image in os.listdir(normal_img_path)]\n",
    "imgs_pneu = [image for image in os.listdir(pneumonia_img_path)]\n",
    "\n",
    "train_normal, _ = train_test_split(imgs_normal, test_size = 0.4, random_state = 10)\n",
    "val_normal, test_normal = train_test_split(_, test_size = 0.5, random_state = 10)\n",
    "train_pneu, _ = train_test_split(imgs_pneu, test_size = 0.4, random_state = 10)\n",
    "val_pneu, test_pneu = train_test_split(_, test_size = 0.5, random_state = 10)\n",
    "\n",
    "all_normal_imgs = [train_normal, val_normal, test_normal]\n",
    "all_pneu_imgs = [train_pneu, val_pneu, test_pneu]\n",
    "\n",
    "print('Normal train/val/test: ', len(train_normal), len(val_normal), len(test_normal))\n",
    "print('Pneumonia train/val/test: ', len(train_pneu), len(val_pneu), len(test_pneu))"
   ]
  },
  {
   "cell_type": "code",
   "execution_count": 70,
   "id": "097ae775-1ffd-4e2a-9f8a-4092af8b48fd",
   "metadata": {},
   "outputs": [],
   "source": [
    "num_workers = 8\n",
    "\n",
    "for images, destination in zip(all_normal_imgs, img_paths):\n",
    "    dest = destination + '/normal'\n",
    "    copy_files(images, normal_img_source, dest, num_workers = num_workers)\n",
    "\n",
    "for images, destination in zip(all_pneu_imgs, img_paths):\n",
    "    dest = destination + '/pneumonia'\n",
    "    copy_files(images, pneumonia_img_source, dest, num_workers = num_workers)"
   ]
  }
 ],
 "metadata": {
  "kernelspec": {
   "display_name": "Python 3 (ipykernel)",
   "language": "python",
   "name": "python3"
  },
  "language_info": {
   "codemirror_mode": {
    "name": "ipython",
    "version": 3
   },
   "file_extension": ".py",
   "mimetype": "text/x-python",
   "name": "python",
   "nbconvert_exporter": "python",
   "pygments_lexer": "ipython3",
   "version": "3.11.5"
  }
 },
 "nbformat": 4,
 "nbformat_minor": 5
}
