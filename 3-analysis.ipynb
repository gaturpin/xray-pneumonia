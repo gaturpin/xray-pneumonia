{
 "cells": [
  {
   "cell_type": "code",
   "execution_count": 71,
   "id": "fc611a9c-c63a-4991-a7d9-3c79178ca1f1",
   "metadata": {},
   "outputs": [],
   "source": [
    "import tensorflow as tf\n",
    "from tensorflow.keras.models import load_model\n",
    "import pandas as pd\n",
    "import numpy as np\n",
    "import os\n",
    "from data_loader import LoadData"
   ]
  },
  {
   "cell_type": "code",
   "execution_count": 72,
   "id": "bcd42583-6d79-41eb-b2b6-1dad4cd49bc3",
   "metadata": {},
   "outputs": [
    {
     "name": "stdout",
     "output_type": "stream",
     "text": [
      "data/test/normal\n",
      "data/test/pneumonia\n"
     ]
    }
   ],
   "source": [
    "x_test, y_test = LoadData('data/test/',['normal', 'pneumonia'], img_size = 150)"
   ]
  },
  {
   "cell_type": "code",
   "execution_count": 73,
   "id": "f0e4c322-b80d-48ef-9174-798a468bca8e",
   "metadata": {},
   "outputs": [],
   "source": [
    "model = load_model('CNN_200epochs.keras')"
   ]
  },
  {
   "cell_type": "code",
   "execution_count": 74,
   "id": "46bca5dd-4d47-4d7b-9656-e035e533fdfc",
   "metadata": {},
   "outputs": [
    {
     "name": "stdout",
     "output_type": "stream",
     "text": [
      "\u001b[1m37/37\u001b[0m \u001b[32m━━━━━━━━━━━━━━━━━━━━\u001b[0m\u001b[37m\u001b[0m \u001b[1m0s\u001b[0m 5ms/step\n"
     ]
    }
   ],
   "source": [
    "predictions = model.predict(x_test)"
   ]
  },
  {
   "cell_type": "markdown",
   "id": "06e03fff-5096-4cbf-a9ac-75a0cb662b4a",
   "metadata": {},
   "source": [
    "## Model evaluation\n",
    "\n",
    "Just trying different ways to do things"
   ]
  },
  {
   "cell_type": "code",
   "execution_count": 75,
   "id": "1829a316-9300-40d2-94c7-200d820c1aa8",
   "metadata": {},
   "outputs": [
    {
     "name": "stdout",
     "output_type": "stream",
     "text": [
      "accuracy = 0.9075\n"
     ]
    }
   ],
   "source": [
    "predicted_labels = (predictions > 0.5).flatten().astype(int)\n",
    "accuracy = np.mean(predicted_labels == y_test)\n",
    "print(f'accuracy = {accuracy:.4f}')"
   ]
  },
  {
   "cell_type": "code",
   "execution_count": 76,
   "id": "7b3475c4-8e87-4412-b1f7-1cf4431c2060",
   "metadata": {},
   "outputs": [
    {
     "name": "stdout",
     "output_type": "stream",
     "text": [
      "tf accuracy = 0.9075\n"
     ]
    }
   ],
   "source": [
    "tf_pred_labels = tf.cast(predictions > 0.5, tf.int32)\n",
    "tf_accuracy = tf.reduce_mean(tf.cast(tf.equal(predicted_labels, y_test), tf.float32))\n",
    "print(f'tf accuracy = {tf_accuracy:.4f}')"
   ]
  },
  {
   "cell_type": "code",
   "execution_count": null,
   "id": "2156a6ac-0399-4cdc-a7d5-604096ad4584",
   "metadata": {},
   "outputs": [],
   "source": []
  }
 ],
 "metadata": {
  "kernelspec": {
   "display_name": "Python 3 (ipykernel)",
   "language": "python",
   "name": "python3"
  },
  "language_info": {
   "codemirror_mode": {
    "name": "ipython",
    "version": 3
   },
   "file_extension": ".py",
   "mimetype": "text/x-python",
   "name": "python",
   "nbconvert_exporter": "python",
   "pygments_lexer": "ipython3",
   "version": "3.12.4"
  }
 },
 "nbformat": 4,
 "nbformat_minor": 5
}
